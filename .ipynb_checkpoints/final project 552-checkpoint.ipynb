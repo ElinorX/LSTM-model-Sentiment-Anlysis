{
 "cells": [
  {
   "cell_type": "markdown",
   "id": "c66e11d8",
   "metadata": {},
   "source": [
    "## Import all the packages"
   ]
  },
  {
   "cell_type": "code",
   "execution_count": 1,
   "id": "a82bc5bb",
   "metadata": {},
   "outputs": [
    {
     "name": "stderr",
     "output_type": "stream",
     "text": [
      "2024-05-01 15:12:00.990591: I tensorflow/core/platform/cpu_feature_guard.cc:210] This TensorFlow binary is optimized to use available CPU instructions in performance-critical operations.\n",
      "To enable the following instructions: AVX2 FMA, in other operations, rebuild TensorFlow with the appropriate compiler flags.\n"
     ]
    }
   ],
   "source": [
    "import os\n",
    "import re\n",
    "from tensorflow.keras.models import Sequential\n",
    "from tensorflow.keras.layers import Embedding, Flatten, Dense, Dropout\n",
    "from tensorflow.keras.preprocessing.text import Tokenizer"
   ]
  },
  {
   "cell_type": "code",
   "execution_count": 7,
   "id": "34bc03ea",
   "metadata": {},
   "outputs": [
    {
     "name": "stdout",
     "output_type": "stream",
     "text": [
      "OrderedDict([('well', 1), ('done', 1), ('good', 1), ('work', 2), ('great', 1), ('effort', 1), ('nice', 1), ('excellent！', 1)])\n",
      "5\n",
      "{'work': 1, 'well': 2, 'done': 3, 'good': 4, 'great': 5, 'effort': 6, 'nice': 7, 'excellent！': 8}\n",
      "defaultdict(<class 'int'>, {'done': 1, 'well': 1, 'good': 1, 'work': 2, 'effort': 1, 'great': 1, 'nice': 1, 'excellent！': 1})\n",
      "[[0. 0. 1. 1. 0. 0. 0. 0. 0.]\n",
      " [0. 1. 0. 0. 1. 0. 0. 0. 0.]\n",
      " [0. 0. 0. 0. 0. 1. 1. 0. 0.]\n",
      " [0. 1. 0. 0. 0. 0. 0. 1. 0.]\n",
      " [0. 0. 0. 0. 0. 0. 0. 0. 1.]]\n"
     ]
    }
   ],
   "source": [
    "# code from Code Snippets-May be useful folder\n",
    "docs = [\"Well done!\",\n",
    "       'Good work',\n",
    "       'Great effort',\n",
    "       'nice work',\n",
    "       'Excellent！']\n",
    "\n",
    "t = Tokenizer()\n",
    "t.fit_on_texts(docs)\n",
    "print(t.word_counts)\n",
    "print(t.document_count)\n",
    "print(t.word_index)\n",
    "print(t.word_docs)\n",
    "\n",
    "encoded_docs = t.texts_to_matrix(docs, mode = 'count')\n",
    "print(encoded_docs)"
   ]
  },
  {
   "cell_type": "markdown",
   "id": "9b123a1c",
   "metadata": {},
   "source": [
    "## 1. Text Classification"
   ]
  },
  {
   "cell_type": "code",
   "execution_count": null,
   "id": "9b418f83",
   "metadata": {},
   "outputs": [],
   "source": [
    "# read a single file\n",
    "def read_file(file_path):\n",
    "    with open(file_path, 'r', encoding='utf-8') as file:\n",
    "        content = file.read()\n",
    "        # Remove punctuation and numbers\n",
    "        cleaned_content = re.sub(r'[^\\w\\s]', '', content)  # Removes punctuation\n",
    "        cleaned_content = re.sub(r'\\d', '', cleaned_content)  # Removes numbers\n",
    "        cleaned_content = cleaned_content.lower()  # Convert to lower case\n",
    "    return cleaned_content"
   ]
  },
  {
   "cell_type": "code",
   "execution_count": null,
   "id": "0f1c2c6a",
   "metadata": {},
   "outputs": [],
   "source": [
    "# read all files from a directory\n",
    "def read_files_from_directory(directory_path):\n",
    "    reviews = []\n",
    "    for filename in os.listdir(directory_path):\n",
    "        if filename.endswith(\".txt\"):\n",
    "            file_path = os.path.join(directory_path, filename)\n",
    "            content = read_file(file_path)\n",
    "            reviews.append(content)\n",
    "    return reviews"
   ]
  },
  {
   "cell_type": "code",
   "execution_count": null,
   "id": "0a9f55b3",
   "metadata": {},
   "outputs": [],
   "source": [
    "# Specify the directories containing the negative and positive reviews\n",
    "neg_directory = '../Data/neg'\n",
    "pos_directory = '../Data/pos'\n",
    "\n",
    "# Reading the negative and positive review files\n",
    "neg_reviews = read_files_from_directory(neg_directory)\n",
    "pos_reviews = read_files_from_directory(pos_directory)"
   ]
  },
  {
   "cell_type": "code",
   "execution_count": 7,
   "id": "a9c70591",
   "metadata": {},
   "outputs": [
    {
     "ename": "FileNotFoundError",
     "evalue": "[Errno 2] No such file or directory: '../Data/neg'",
     "output_type": "error",
     "traceback": [
      "\u001b[0;31m---------------------------------------------------------------------------\u001b[0m",
      "\u001b[0;31mFileNotFoundError\u001b[0m                         Traceback (most recent call last)",
      "Cell \u001b[0;32mIn[7], line 29\u001b[0m\n\u001b[1;32m     26\u001b[0m pos_directory \u001b[38;5;241m=\u001b[39m \u001b[38;5;124m'\u001b[39m\u001b[38;5;124m../Data/pos\u001b[39m\u001b[38;5;124m'\u001b[39m\n\u001b[1;32m     28\u001b[0m \u001b[38;5;66;03m# Reading the first five lines of the first negative and positive review files\u001b[39;00m\n\u001b[0;32m---> 29\u001b[0m neg_first_5_lines \u001b[38;5;241m=\u001b[39m \u001b[43mread_first_file_first_5_lines\u001b[49m\u001b[43m(\u001b[49m\u001b[43mneg_directory\u001b[49m\u001b[43m)\u001b[49m\n\u001b[1;32m     30\u001b[0m pos_first_5_lines \u001b[38;5;241m=\u001b[39m read_first_file_first_5_lines(pos_directory)\n\u001b[1;32m     32\u001b[0m \u001b[38;5;66;03m# Output the results\u001b[39;00m\n",
      "Cell \u001b[0;32mIn[7], line 15\u001b[0m, in \u001b[0;36mread_first_file_first_5_lines\u001b[0;34m(directory_path)\u001b[0m\n\u001b[1;32m     14\u001b[0m \u001b[38;5;28;01mdef\u001b[39;00m \u001b[38;5;21mread_first_file_first_5_lines\u001b[39m(directory_path):\n\u001b[0;32m---> 15\u001b[0m     \u001b[38;5;28;01mfor\u001b[39;00m filename \u001b[38;5;129;01min\u001b[39;00m \u001b[43mos\u001b[49m\u001b[38;5;241;43m.\u001b[39;49m\u001b[43mlistdir\u001b[49m\u001b[43m(\u001b[49m\u001b[43mdirectory_path\u001b[49m\u001b[43m)\u001b[49m:\n\u001b[1;32m     16\u001b[0m         \u001b[38;5;28;01mif\u001b[39;00m filename\u001b[38;5;241m.\u001b[39mendswith(\u001b[38;5;124m\"\u001b[39m\u001b[38;5;124m.txt\u001b[39m\u001b[38;5;124m\"\u001b[39m):\n\u001b[1;32m     17\u001b[0m             file_path \u001b[38;5;241m=\u001b[39m os\u001b[38;5;241m.\u001b[39mpath\u001b[38;5;241m.\u001b[39mjoin(directory_path, filename)\n",
      "\u001b[0;31mFileNotFoundError\u001b[0m: [Errno 2] No such file or directory: '../Data/neg'"
     ]
    }
   ],
   "source": [
    "import os\n",
    "\n",
    "# Function to read and clean a single file\n",
    "def read_file(file_path):\n",
    "    with open(file_path, 'r', encoding='utf-8') as file:\n",
    "        content = file.read()\n",
    "        # Remove punctuation and numbers\n",
    "        cleaned_content = re.sub(r'[^\\w\\s]', '', content)  # Removes punctuation\n",
    "        cleaned_content = re.sub(r'\\d', '', cleaned_content)  # Removes numbers\n",
    "#         cleaned_content = cleaned_content.lower()  # Convert to lower case\n",
    "    return cleaned_content\n",
    "\n",
    "# Function to read the first file from a directory and print the first 5 lines\n",
    "def read_first_file_first_5_lines(directory_path):\n",
    "    for filename in os.listdir(directory_path):\n",
    "        if filename.endswith(\".txt\"):\n",
    "            file_path = os.path.join(directory_path, filename)\n",
    "            content = read_file(file_path)\n",
    "            # Split the content into lines and get the first 5\n",
    "            first_5_lines = content.split('\\n')[:5]\n",
    "            return first_5_lines\n",
    "    return []  # Return an empty list if no .txt files were found\n",
    "\n",
    "# Specify the directories containing the negative and positive reviews\n",
    "neg_directory = '../Data/neg'\n",
    "pos_directory = '../Data/pos'\n",
    "\n",
    "# Reading the first five lines of the first negative and positive review files\n",
    "neg_first_5_lines = read_first_file_first_5_lines(neg_directory)\n",
    "pos_first_5_lines = read_first_file_first_5_lines(pos_directory)\n",
    "\n",
    "# Output the results\n",
    "print(\"First 5 lines of the first negative review:\")\n",
    "for line in neg_first_5_lines:\n",
    "    print(line)\n",
    "\n",
    "print(\"\\nFirst 5 lines of the first positive review:\")\n",
    "for line in pos_first_5_lines:\n",
    "    print(line)\n"
   ]
  },
  {
   "cell_type": "code",
   "execution_count": 3,
   "id": "2a9487cd",
   "metadata": {},
   "outputs": [
    {
     "name": "stdout",
     "output_type": "stream",
     "text": [
      "Current working directory: /Users/elinorzhang/Desktop/usc/DSCI552/final project\n"
     ]
    }
   ],
   "source": [
    "import os\n",
    "\n",
    "# Print the current working directory\n",
    "print(\"Current working directory:\", os.getcwd())\n"
   ]
  },
  {
   "cell_type": "code",
   "execution_count": 5,
   "id": "80307776",
   "metadata": {},
   "outputs": [
    {
     "name": "stdout",
     "output_type": "stream",
     "text": [
      "Checking negative directory: /Users/elinorzhang/Desktop/usc/DSCI552/Data/neg\n",
      "Does negative directory exist? False\n",
      "Checking positive directory: /Users/elinorzhang/Desktop/usc/DSCI552/Data/pos\n",
      "Does positive directory exist? False\n"
     ]
    }
   ],
   "source": [
    "import os\n",
    "\n",
    "# Check if the path to the 'neg' and 'pos' directories are correct\n",
    "neg_directory = '../Data/neg'\n",
    "pos_directory = '../Data/pos'\n",
    "\n",
    "print(\"Checking negative directory:\", os.path.abspath(neg_directory))\n",
    "print(\"Does negative directory exist?\", os.path.exists(neg_directory))\n",
    "print(\"Checking positive directory:\", os.path.abspath(pos_directory))\n",
    "print(\"Does positive directory exist?\", os.path.exists(pos_directory))\n"
   ]
  },
  {
   "cell_type": "markdown",
   "id": "0cb702b9",
   "metadata": {},
   "source": [
    "# reference"
   ]
  },
  {
   "cell_type": "markdown",
   "id": "12bdc59c",
   "metadata": {},
   "source": [
    "* [text-classification-with-python-and-keras](https://www.kaggle.com/code/sanikamal/text-classification-with-python-and-keras)\n",
    "* [python-keras-text-classification](https://realpython.com/python-keras-text-classification/)"
   ]
  },
  {
   "cell_type": "code",
   "execution_count": null,
   "id": "b870ed44",
   "metadata": {},
   "outputs": [],
   "source": []
  }
 ],
 "metadata": {
  "kernelspec": {
   "display_name": "Python 3 (ipykernel)",
   "language": "python",
   "name": "python3"
  },
  "language_info": {
   "codemirror_mode": {
    "name": "ipython",
    "version": 3
   },
   "file_extension": ".py",
   "mimetype": "text/x-python",
   "name": "python",
   "nbconvert_exporter": "python",
   "pygments_lexer": "ipython3",
   "version": "3.10.9"
  }
 },
 "nbformat": 4,
 "nbformat_minor": 5
}
